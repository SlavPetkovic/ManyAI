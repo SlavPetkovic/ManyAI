{
 "cells": [
  {
   "cell_type": "code",
   "execution_count": 3,
   "id": "initial_id",
   "metadata": {
    "collapsed": true,
    "ExecuteTime": {
     "end_time": "2023-11-08T06:43:44.877163200Z",
     "start_time": "2023-11-08T06:43:44.833821600Z"
    }
   },
   "outputs": [
    {
     "name": "stdout",
     "output_type": "stream",
     "text": [
      "Synthetica\n",
      "├── .git\n",
      "│   ├── COMMIT_EDITMSG\n",
      "│   ├── config\n",
      "│   ├── description\n",
      "│   ├── HEAD\n",
      "│   ├── hooks\n",
      "│   ├── index\n",
      "│   ├── info\n",
      "│   ├── logs\n",
      "│   ├── objects\n",
      "│   └── refs\n",
      "├── .gitignore\n",
      "├── .idea\n",
      "│   ├── .gitignore\n",
      "│   ├── inspectionProfiles\n",
      "│   ├── misc.xml\n",
      "│   ├── modules.xml\n",
      "│   ├── Synthetica.iml\n",
      "│   ├── vcs.xml\n",
      "│   └── workspace.xml\n",
      "├── api\n",
      "│   ├── openai_interface.py\n",
      "│   ├── __init__.py\n",
      "│   └── __pycache__\n",
      "├── app.log\n",
      "├── AppBackUp.py\n",
      "├── assets\n",
      "│   ├── ChatGpt.png\n",
      "│   └── Dalle.png\n",
      "├── build\n",
      "│   └── main\n",
      "├── config\n",
      "│   └── settings.ini\n",
      "├── database\n",
      "│   ├── db_manager.py\n",
      "│   ├── __init__.py\n",
      "│   └── __pycache__\n",
      "├── dist\n",
      "│   ├── app.log\n",
      "│   ├── main.exe\n",
      "│   └── synt.db\n",
      "├── gui\n",
      "│   ├── app.py\n",
      "│   ├── __init__.py\n",
      "│   └── __pycache__\n",
      "├── LICENSE.txt\n",
      "├── main.py\n",
      "├── main.spec\n",
      "├── notebooks\n",
      "│   └── SandBox.ipynb\n",
      "├── README.md\n",
      "├── requirements.txt\n",
      "├── splash.py\n",
      "├── synt.db\n",
      "├── tests\n",
      "│   ├── test_api.py\n",
      "│   ├── test_db_manager.py\n",
      "│   └── test_gui.py\n",
      "├── tools.py\n",
      "├── utils\n",
      "│   └── __init__.py\n",
      "├── venv\n",
      "│   ├── .gitignore\n",
      "│   ├── etc\n",
      "│   ├── Lib\n",
      "│   ├── pyvenv.cfg\n",
      "│   ├── Scripts\n",
      "│   └── share\n",
      "└── __pycache__\n",
      "    └── tools.cpython-310.pyc\n",
      "\\n29 directories, 41 files\n"
     ]
    }
   ],
   "source": [
    "from tools import tree\n",
    "from pathlib import Path\n",
    "from itertools import islice\n",
    "tree(Path.home() / 'PycharmProjects/Synthetica', level=2)"
   ]
  }
 ],
 "metadata": {
  "kernelspec": {
   "display_name": "Python 3",
   "language": "python",
   "name": "python3"
  },
  "language_info": {
   "codemirror_mode": {
    "name": "ipython",
    "version": 2
   },
   "file_extension": ".py",
   "mimetype": "text/x-python",
   "name": "python",
   "nbconvert_exporter": "python",
   "pygments_lexer": "ipython2",
   "version": "2.7.6"
  }
 },
 "nbformat": 4,
 "nbformat_minor": 5
}
